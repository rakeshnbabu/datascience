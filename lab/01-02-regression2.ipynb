{
 "cells": [
  {
   "cell_type": "markdown",
   "metadata": {},
   "source": [
    "### Additional Lab work - Your turn!\n",
    "\n",
    "* Prasanna Joshi\n",
    "* Rakesh Babu\n",
    "\n",
    "##### Data source,\n",
    "- https://www.eia.gov/totalenergy/data/browser/index.php?tbl=T09.01#/?f=A&start=1949&end=2016&charted=0-6\n",
    "- ../data/data2.csv"
   ]
  },
  {
   "cell_type": "markdown",
   "metadata": {},
   "source": [
    "### Task on hand,\n",
    "- Data: Crude oil prices\n",
    "- Load data\n",
    "- Clean data\n",
    "- Visualize data\n",
    "- Fit data\n",
    "- Prediction - predict crude price for a given year-month\n",
    "\n",
    "### Time ~ 15 minutes"
   ]
  },
  {
   "cell_type": "markdown",
   "metadata": {},
   "source": [
    "### Set up environment\n",
    "First, make sure that you import the libraries you'll need. In this case, you will want NumPy, Pandas, MatPlotLib.PyPlot, and sklearn.linear_model.LinearRegression. It's easiest to just copy the import statements from the regression1 notebook."
   ]
  },
  {
   "cell_type": "code",
   "execution_count": null,
   "metadata": {
    "collapsed": true
   },
   "outputs": [],
   "source": [
    "# Put your code to import the libraries here.\n"
   ]
  },
  {
   "cell_type": "markdown",
   "metadata": {},
   "source": [
    "Next, you'll want to import the csv file using pandas. You should assign the file \"../data/data2.csv\" to a variable called oilData."
   ]
  },
  {
   "cell_type": "code",
   "execution_count": null,
   "metadata": {
    "collapsed": true
   },
   "outputs": [],
   "source": [
    "# Put your code to load the data from our csv file here.\n"
   ]
  },
  {
   "cell_type": "code",
   "execution_count": null,
   "metadata": {
    "collapsed": true
   },
   "outputs": [],
   "source": [
    "# This is some data cleaning which we haven't gone over.\n",
    "# You can ignore this for now, we'll revisit it in a future session.\n",
    "\n",
    "# Convert the Value field to a numeric.\n",
    "oilData[['Value']] = oilData[['Value']].apply(pd.to_numeric, errors=\"coerce\")\n",
    "\n",
    "# Cast the YYYYMM field to a date-time.\n",
    "oilData['YYYYMM'] = pd.to_datetime(oilData['YYYYMM'], format='%Y%m', errors='coerce')\n",
    "\n",
    "# Get rid of rows missing data. Most of the stuff we'll do from now on REALLY doesn't like having missing data\n",
    "oilData2 = oilData.dropna()\n",
    "\n",
    "# Print out a nice summary of the columns\n",
    "oilData2.describe(include = \"all\")\n"
   ]
  },
  {
   "cell_type": "markdown",
   "metadata": {
    "collapsed": true
   },
   "source": [
    "### Visually Explore the Data\n",
    "Now that we have the data, we'd like to see what it looks like, to make sure that a linear regression is a good idea. To do this, we'll plot YYYYMM as the x axis, and Value as the y axis."
   ]
  },
  {
   "cell_type": "code",
   "execution_count": null,
   "metadata": {
    "collapsed": true,
    "scrolled": true
   },
   "outputs": [],
   "source": [
    "# This is a way to plot data directly from the data frame without having to transform anything.\n",
    "# We'll learn more about it later.\n",
    "\n",
    "oilData2.plot(x='YYYYMM', y='Value')\n",
    "plt.show()"
   ]
  },
  {
   "cell_type": "markdown",
   "metadata": {
    "collapsed": true
   },
   "source": [
    "### Create the linear regression\n",
    "You can copy the example from the regression1 notebook and adapt it to work with our data here. Once again, X should be YYYYMM and y axis should be Value.\n",
    "\n",
    "Don't forget to change the column indexes when you assign values to X and y!"
   ]
  },
  {
   "cell_type": "code",
   "execution_count": null,
   "metadata": {
    "collapsed": true
   },
   "outputs": [],
   "source": [
    "# Put your code to define X and y here.\n"
   ]
  },
  {
   "cell_type": "code",
   "execution_count": null,
   "metadata": {
    "collapsed": true
   },
   "outputs": [],
   "source": [
    "# You'll run into a little bit of trouble when trying to plot the data directly.\n",
    "# The code in this cell converts the datetimes into a numeric so we can run the linear regression.\n",
    "# This isn't strictly the correct thing to do, but it's quick and easy.\n",
    "# We'll learn the \"right\" way to do this in another session.\n",
    "\n",
    "X2 = np.zeros(X.shape)\n",
    "for i in range(0,X.shape[0]):\n",
    "    X2[i, 0] = X[i,0] - X[0,0]"
   ]
  },
  {
   "cell_type": "code",
   "execution_count": null,
   "metadata": {
    "collapsed": true,
    "scrolled": true
   },
   "outputs": [],
   "source": [
    "# Put your linear regression training and plotting code here.\n",
    "# Make sure that you change X to X2 everywhere it exists!\n",
    "\n"
   ]
  },
  {
   "cell_type": "code",
   "execution_count": null,
   "metadata": {
    "collapsed": true
   },
   "outputs": [],
   "source": [
    " "
   ]
  }
 ],
 "metadata": {
  "kernelspec": {
   "display_name": "Python 3",
   "language": "python",
   "name": "python3"
  },
  "language_info": {
   "codemirror_mode": {
    "name": "ipython",
    "version": 3
   },
   "file_extension": ".py",
   "mimetype": "text/x-python",
   "name": "python",
   "nbconvert_exporter": "python",
   "pygments_lexer": "ipython3",
   "version": "3.6.2"
  }
 },
 "nbformat": 4,
 "nbformat_minor": 2
}
